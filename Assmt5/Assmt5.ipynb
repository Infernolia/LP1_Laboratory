{
  "nbformat": 4,
  "nbformat_minor": 0,
  "metadata": {
    "colab": {
      "name": "Assmt5.ipynb",
      "provenance": [],
      "collapsed_sections": []
    },
    "kernelspec": {
      "name": "python3",
      "display_name": "Python 3"
    },
    "language_info": {
      "name": "python"
    },
    "accelerator": "GPU"
  },
  "cells": [
    {
      "cell_type": "code",
      "metadata": {
        "id": "tAo4hTGQFhb0"
      },
      "source": [
        "code = \"\"\"\n",
        "// C program to implement recursive Binary Search\n",
        "#include <stdio.h>\n",
        "  \n",
        "// A recursive binary search function. It returns\n",
        "// location of x in given array arr[l..r] is present,\n",
        "// otherwise -1\n",
        "int binarySearch(int arr[], int l, int r, int x)\n",
        "{\n",
        "    if (r >= l) {\n",
        "        int mid = l + (r - l) / 2;\n",
        "  \n",
        "        // If the element is present at the middle\n",
        "        // itself\n",
        "        if (arr[mid] == x)\n",
        "            return mid;\n",
        "  \n",
        "        // If element is smaller than mid, then\n",
        "        // it can only be present in left subarray\n",
        "        if (arr[mid] > x)\n",
        "            return binarySearch(arr, l, mid - 1, x);\n",
        "  \n",
        "        // Else the element can only be present\n",
        "        // in right subarray\n",
        "        return binarySearch(arr, mid + 1, r, x);\n",
        "    }\n",
        "  \n",
        "    // We reach here when element is not\n",
        "    // present in array\n",
        "    return -1;\n",
        "}\n",
        "  \n",
        "int main(void)\n",
        "{\n",
        "    int arr[] = {1,2,3,4,7,9,13,24,55,56,67,88};\n",
        "    int n = sizeof(arr) / sizeof(arr[0]);\n",
        "    int x = 55;\n",
        "    int result = binarySearch(arr, 0, n - 1, x);\n",
        "    (result == -1) ? printf(\"Element is not present in array\")\n",
        "                   : printf(\"Element is present at index %d\",\n",
        "                            result);\n",
        "    return 0;\n",
        "}\n",
        "\"\"\""
      ],
      "execution_count": 16,
      "outputs": []
    },
    {
      "cell_type": "code",
      "metadata": {
        "id": "pZJrJj8gFqkJ"
      },
      "source": [
        "text_file = open(\"mpiBinary1.c\", \"w\");\n",
        "text_file.write(code);\n",
        "text_file.close();"
      ],
      "execution_count": 17,
      "outputs": []
    },
    {
      "cell_type": "code",
      "metadata": {
        "colab": {
          "base_uri": "https://localhost:8080/"
        },
        "id": "9UBpGPGTF6tc",
        "outputId": "72e55d28-277d-40e4-8ed9-6f7b6948fceb"
      },
      "source": [
        "%%time\n",
        "!mpiCC mpiBinary1.c"
      ],
      "execution_count": 18,
      "outputs": [
        {
          "output_type": "stream",
          "text": [
            "CPU times: user 1.38 ms, sys: 6.1 ms, total: 7.49 ms\n",
            "Wall time: 114 ms\n"
          ],
          "name": "stdout"
        }
      ]
    },
    {
      "cell_type": "code",
      "metadata": {
        "colab": {
          "base_uri": "https://localhost:8080/"
        },
        "id": "6SIU8qjWF-3Q",
        "outputId": "09e30ae9-d9b5-45ee-82d4-9d157829305e"
      },
      "source": [
        "%%time\n",
        "!mpirun --allow-run-as-root -np 4 ./a.out"
      ],
      "execution_count": 19,
      "outputs": [
        {
          "output_type": "stream",
          "text": [
            "Element is present at index 8Element is present at index 8Element is present at index 8Element is present at index 8CPU times: user 2.07 ms, sys: 7.95 ms, total: 10 ms\n",
            "Wall time: 117 ms\n"
          ],
          "name": "stdout"
        }
      ]
    },
    {
      "cell_type": "code",
      "metadata": {
        "id": "VbFomT1AB4sd"
      },
      "source": [
        "code = \"\"\"\n",
        "#include<mpi.h>\n",
        "#include<stdio.h>\n",
        "#include <chrono>\n",
        "#include <bits/stdc++.h>\n",
        "using namespace std;\n",
        "using namespace std::chrono;\n",
        "#define n 12\n",
        "\n",
        "#define key 55\n",
        "\n",
        "int a[] = {1,2,3,4,7,9,13,24,55,56,67,88};\n",
        "\n",
        "int a2[20];\n",
        "\n",
        "int binarySearch(int *array, int start, int end, int value) {\n",
        "    int mid;\n",
        "    \n",
        "    while(start <= end) {\n",
        "        mid = (start + end) / 2;\n",
        "        if(array[mid] == value) \n",
        "            return mid;\n",
        "        else if(array[mid] > value)\n",
        "            end = mid - 1;\n",
        "        else\n",
        "            start = mid + 1;\n",
        "    }\n",
        "    return -1;\n",
        "}\n",
        "\n",
        "int main(int argc, char* argv[]) {\n",
        "    int pid, np, elements_per_process, n_elements_received;\n",
        "    \n",
        "    MPI_Status status;\n",
        "    \n",
        "    MPI_Init(&argc, &argv);\n",
        "    \n",
        "    MPI_Comm_rank(MPI_COMM_WORLD, &pid);\n",
        "    MPI_Comm_size(MPI_COMM_WORLD, &np);\n",
        "    \n",
        "    if(pid == 0) {\n",
        "        int index, i;\n",
        "        \n",
        "        if(np > 1) {\n",
        "            for(i=1; i<np-1; i++) {\n",
        "                \n",
        "                index = i * elements_per_process;\n",
        "                //element count\n",
        "                MPI_Send(&elements_per_process, 1, MPI_INT, i, 0, MPI_COMM_WORLD);\n",
        "\n",
        "                MPI_Send(&a[index], elements_per_process, MPI_INT, i, 0, MPI_COMM_WORLD);\n",
        "            \n",
        "            }\n",
        "            \n",
        "            index = i* elements_per_process;\n",
        "            \n",
        "            int elements_left = n - index;\n",
        "            \n",
        "            MPI_Send(&elements_left, 1, MPI_INT, i, 0, MPI_COMM_WORLD);\n",
        "            \n",
        "            MPI_Send(&a[index], elements_left, MPI_INT, i, 0, MPI_COMM_WORLD);\n",
        "        }\n",
        "        \n",
        "        int position = binarySearch(a, 0, elements_per_process-1, key);\n",
        "        \n",
        "        if(position != -1)\n",
        "          printf(\"Found at: %d\", position);\n",
        "        \n",
        "        int temp;\n",
        "        \n",
        "        for(i=1; i<np; i++) {\n",
        "            MPI_Recv(&temp, 1, MPI_INT, MPI_ANY_SOURCE, 0, MPI_COMM_WORLD, &status);\n",
        "            int sender = status.MPI_SOURCE;\n",
        "            \n",
        "            if(temp != -1)\n",
        "                printf(\"Found at: %d by %d\", (sender*elements_per_process)+temp, sender);\n",
        "        }\n",
        "    }\n",
        "    \n",
        "    else {\n",
        "        MPI_Recv(&n_elements_received, 1, MPI_INT, 0, 0, MPI_COMM_WORLD, &status);\n",
        "        \n",
        "        MPI_Recv(&a2, n_elements_received, MPI_INT, 0, 0, MPI_COMM_WORLD, &status);\n",
        "    \n",
        "        int position = binarySearch(a2, 0, n_elements_received-1, key);\n",
        "        \n",
        "        MPI_Send(&position, 1, MPI_INT, 0, 0, MPI_COMM_WORLD);\n",
        "    }\n",
        "    \n",
        "    MPI_Finalize();\n",
        "    \n",
        "    return 0;\n",
        "}\n",
        "\"\"\""
      ],
      "execution_count": 20,
      "outputs": []
    },
    {
      "cell_type": "code",
      "metadata": {
        "id": "boTv_4e9B4pQ"
      },
      "source": [
        "text_file = open(\"mpiBinary.c\", \"w\");\n",
        "text_file.write(code);\n",
        "text_file.close();"
      ],
      "execution_count": 21,
      "outputs": []
    },
    {
      "cell_type": "code",
      "metadata": {
        "colab": {
          "base_uri": "https://localhost:8080/"
        },
        "id": "AbwbnjP2B4mD",
        "outputId": "d3dea26f-42f1-4543-96a5-9030d316c8c0"
      },
      "source": [
        "%%time\n",
        "!mpiCC mpiBinary.c"
      ],
      "execution_count": 22,
      "outputs": [
        {
          "output_type": "stream",
          "text": [
            "CPU times: user 13 ms, sys: 4.08 ms, total: 17.1 ms\n",
            "Wall time: 1.12 s\n"
          ],
          "name": "stdout"
        }
      ]
    },
    {
      "cell_type": "code",
      "metadata": {
        "colab": {
          "base_uri": "https://localhost:8080/"
        },
        "id": "MWWmabd8B4il",
        "outputId": "f39aa59b-33af-47b6-e049-f8a47c0a4e9e"
      },
      "source": [
        "%%time\n",
        "!mpirun --allow-run-as-root -np 4 ./a.out"
      ],
      "execution_count": 23,
      "outputs": [
        {
          "output_type": "stream",
          "text": [
            "Found at: 8 by 3CPU times: user 4.66 ms, sys: 4.22 ms, total: 8.87 ms\n",
            "Wall time: 311 ms\n"
          ],
          "name": "stdout"
        }
      ]
    },
    {
      "cell_type": "code",
      "metadata": {
        "id": "7a_pUCKwEQAK"
      },
      "source": [
        "code = \"\"\"\n",
        "#include<iostream>\n",
        "\n",
        "\n",
        "using namespace std;\n",
        "int q[100];\n",
        "int visited[7];\n",
        "int local_q;\n",
        "\n",
        "void bfs(int adj_matrix[7][7], int first, int last, int q[], int n_nodes) {\n",
        "    if(first==last)\n",
        "      return;\n",
        "    \n",
        "    int cur_node = q[first++];\n",
        "    cout<<\"  \"<<cur_node;\n",
        " \n",
        "    for(int i=0; i<n_nodes; i++) {\n",
        "        if(adj_matrix[cur_node][i] == 1 && visited[i] == 0){\n",
        "            q[last++] = i;\n",
        "            visited[i] = 1;\n",
        "        }\n",
        "    }\n",
        "    \n",
        "    bfs(adj_matrix, first, last, q, n_nodes);\n",
        "}\n",
        "\n",
        "int main() {\n",
        "    int first = -1;\n",
        "    int last = 0;\n",
        "    int n_nodes = 7;\n",
        "    \n",
        "    for(int i=0; i<n_nodes; i++) {\n",
        "        visited[i] = 0;\n",
        "    }\n",
        "    \n",
        "    int adj_matrix[7][7] = {\n",
        "      {0, 1, 1, 0, 0, 0, 0},\n",
        "      {1, 0, 1, 1, 0, 0, 0},\n",
        "      {1, 1, 0, 0, 1, 0, 0},\n",
        "      {0, 1, 0, 0, 1, 0, 0},\n",
        "      {0, 0, 1, 1, 0, 1, 0},\n",
        "      {0, 0, 0, 0, 1, 0, 1},\n",
        "      {0, 0, 0, 0, 0, 1, 0}\n",
        "    };\n",
        "    \n",
        "    int start_node = 3;\n",
        "    q[last++] = start_node;\n",
        "    first++;\n",
        "    visited[start_node] = 1;\n",
        " \n",
        "    bfs(adj_matrix, first, last, q, n_nodes);\n",
        "    \n",
        "    return 0;\n",
        "    \n",
        "}\n",
        "\"\"\""
      ],
      "execution_count": 1,
      "outputs": []
    },
    {
      "cell_type": "code",
      "metadata": {
        "id": "l_A26W9vEUZb"
      },
      "source": [
        "text_file = open(\"code.cpp\", \"w\")\n",
        "text_file.write(code)\n",
        "text_file.close()"
      ],
      "execution_count": 2,
      "outputs": []
    },
    {
      "cell_type": "code",
      "metadata": {
        "id": "IFPyT5P9EWtz"
      },
      "source": [
        "!g++ -fopenmp code.cpp"
      ],
      "execution_count": 3,
      "outputs": []
    },
    {
      "cell_type": "code",
      "metadata": {
        "colab": {
          "base_uri": "https://localhost:8080/"
        },
        "id": "oI3Acr9OEYph",
        "outputId": "44552182-78ec-4b72-c672-996262d58679"
      },
      "source": [
        "%%time\n",
        "!./a.out"
      ],
      "execution_count": 4,
      "outputs": [
        {
          "output_type": "stream",
          "text": [
            "  3  1  4  0  2  5  6CPU times: user 7.19 ms, sys: 3.34 ms, total: 10.5 ms\n",
            "Wall time: 118 ms\n"
          ],
          "name": "stdout"
        }
      ]
    },
    {
      "cell_type": "code",
      "metadata": {
        "id": "h-yS_5TAB4fV"
      },
      "source": [
        "code = \"\"\"\n",
        "#include<iostream>\n",
        "#include<omp.h>\n",
        "\n",
        "using namespace std;\n",
        "int q[100];\n",
        "int visited[7];\n",
        "int local_q;\n",
        "\n",
        "void bfs(int adj_matrix[7][7], int first, int last, int q[], int n_nodes) {\n",
        "    if(first==last)\n",
        "      return;\n",
        "    \n",
        "    int cur_node = q[first++];\n",
        "    cout<<\"  \"<<cur_node;\n",
        "    \n",
        "    omp_set_num_threads(10);\n",
        "    \n",
        "    #pragma omp parallel for shared(visited)\n",
        "    for(int i=0; i<n_nodes; i++) {\n",
        "        if(adj_matrix[cur_node][i] == 1 && visited[i] == 0){\n",
        "            q[last++] = i;\n",
        "            visited[i] = 1;\n",
        "        }\n",
        "    }\n",
        "    \n",
        "    bfs(adj_matrix, first, last, q, n_nodes);\n",
        "}\n",
        "\n",
        "int main() {\n",
        "    int first = -1;\n",
        "    int last = 0;\n",
        "    int n_nodes = 7;\n",
        "    \n",
        "    for(int i=0; i<n_nodes; i++) {\n",
        "        visited[i] = 0;\n",
        "    }\n",
        "    \n",
        "    int adj_matrix[7][7] = {\n",
        "      {0, 1, 1, 0, 0, 0, 0},\n",
        "      {1, 0, 1, 1, 0, 0, 0},\n",
        "      {1, 1, 0, 0, 1, 0, 0},\n",
        "      {0, 1, 0, 0, 1, 0, 0},\n",
        "      {0, 0, 1, 1, 0, 1, 0},\n",
        "      {0, 0, 0, 0, 1, 0, 1},\n",
        "      {0, 0, 0, 0, 0, 1, 0}\n",
        "    };\n",
        "    \n",
        "    int start_node = 3;\n",
        "    q[last++] = start_node;\n",
        "    first++;\n",
        "    visited[start_node] = 1;\n",
        " \n",
        "    bfs(adj_matrix, first, last, q, n_nodes);\n",
        "    \n",
        "    return 0;\n",
        "    \n",
        "}\n",
        "\"\"\""
      ],
      "execution_count": 5,
      "outputs": []
    },
    {
      "cell_type": "code",
      "metadata": {
        "id": "qB_yICObB4b-"
      },
      "source": [
        "text_file = open(\"code.cpp\", \"w\")\n",
        "text_file.write(code)\n",
        "text_file.close()"
      ],
      "execution_count": 6,
      "outputs": []
    },
    {
      "cell_type": "code",
      "metadata": {
        "id": "XtS_KAQVB4ZJ"
      },
      "source": [
        "!g++ -fopenmp code.cpp"
      ],
      "execution_count": 7,
      "outputs": []
    },
    {
      "cell_type": "code",
      "metadata": {
        "colab": {
          "base_uri": "https://localhost:8080/"
        },
        "id": "DZC6gbrzB4Vf",
        "outputId": "ca55d484-738c-41fc-8a04-f317c44795aa"
      },
      "source": [
        "%%time\n",
        "!./a.out"
      ],
      "execution_count": 8,
      "outputs": [
        {
          "output_type": "stream",
          "text": [
            "  3  4  1  5  2  0  6CPU times: user 5.55 ms, sys: 2.89 ms, total: 8.44 ms\n",
            "Wall time: 122 ms\n"
          ],
          "name": "stdout"
        }
      ]
    },
    {
      "cell_type": "code",
      "metadata": {
        "id": "zOlOoSxnB4R8"
      },
      "source": [
        ""
      ],
      "execution_count": null,
      "outputs": []
    }
  ]
}